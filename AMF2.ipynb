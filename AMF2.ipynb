{
 "cells": [
  {
   "cell_type": "code",
   "execution_count": 1,
   "id": "88bd8744",
   "metadata": {},
   "outputs": [
    {
     "name": "stdout",
     "output_type": "stream",
     "text": [
      "(3, 9, 13)\n"
     ]
    }
   ],
   "source": [
    "from sys import version_info \n",
    "print(version_info[:3]) "
   ]
  },
  {
   "cell_type": "markdown",
   "id": "d527f2f5",
   "metadata": {},
   "source": [
    "### Python version: (3, 9, 13)"
   ]
  },
  {
   "cell_type": "markdown",
   "id": "d2a6b255",
   "metadata": {},
   "source": [
    "#### Problem 1"
   ]
  },
  {
   "cell_type": "code",
   "execution_count": 109,
   "id": "5541b681",
   "metadata": {},
   "outputs": [],
   "source": [
    "from IPython.core.interactiveshell import InteractiveShell\n",
    "InteractiveShell.ast_node_interactivity = \"all\""
   ]
  },
  {
   "cell_type": "code",
   "execution_count": 181,
   "id": "38a77768",
   "metadata": {},
   "outputs": [
    {
     "data": {
      "text/plain": [
       "0.125"
      ]
     },
     "execution_count": 181,
     "metadata": {},
     "output_type": "execute_result"
    },
    {
     "data": {
      "text/plain": [
       "0.46875"
      ]
     },
     "execution_count": 181,
     "metadata": {},
     "output_type": "execute_result"
    },
    {
     "data": {
      "text/plain": [
       "0.3203125"
      ]
     },
     "execution_count": 181,
     "metadata": {},
     "output_type": "execute_result"
    },
    {
     "data": {
      "text/plain": [
       "0.359375"
      ]
     },
     "execution_count": 181,
     "metadata": {},
     "output_type": "execute_result"
    },
    {
     "data": {
      "text/plain": [
       "0.3333333333333333"
      ]
     },
     "execution_count": 181,
     "metadata": {},
     "output_type": "execute_result"
    }
   ],
   "source": [
    "def num_int(f, a = None, b = None, n = None, *, part = None, method):\n",
    "    if (n != None and (type(n) != int or int(n) <= 0)) or (part != None and part[1]-part[0] < 0):\n",
    "        raise ValueError('n must be a positive integer')\n",
    "    if (method == 'Simpson' and part != None):\n",
    "        raise ValueError('Part is defined')\n",
    "    if part != None and (a != None or b != None or n != None):\n",
    "        raise ValueError('Input all interval values')\n",
    "    if (method != 'left' and method != 'right' and method != 'midpoint'\n",
    "        and method != 'trapezium' and method != 'Simpson'):\n",
    "        raise NameError('Write the method correctly')\n",
    "    if part == None and (a == None or b == None or n == None):\n",
    "        raise ValueError('Input interval values')\n",
    "    if part == None and a != None and b != None and n != None:\n",
    "        part = []\n",
    "        d = (b-a)/n\n",
    "        i = 0\n",
    "        while i <= n:\n",
    "            part.append(a)\n",
    "            a += d\n",
    "            i += 1\n",
    "    i = 0\n",
    "    f_new = []\n",
    "    if method == 'left':\n",
    "        i = 1\n",
    "        while i < len(part):\n",
    "            c = f(part[i-1])*(part[i]-part[i-1])\n",
    "            f_new.append(c)\n",
    "            i += 1\n",
    "        return sum(f_new)\n",
    "    if method == 'right':\n",
    "        i = 1\n",
    "        while i < len(part):\n",
    "            c = f(part[i])*(part[i]-part[i-1])\n",
    "            f_new.append(c)\n",
    "            i += 1\n",
    "        return sum(f_new)\n",
    "    if method == 'midpoint':\n",
    "        i = 1\n",
    "        while i < len(part):\n",
    "            c = f((part[i-1]+part[i])/2)*(part[i]-part[i-1])\n",
    "            f_new.append(c)\n",
    "            i += 1\n",
    "        return sum(f_new)\n",
    "    if method == 'trapezium':\n",
    "        i = 1\n",
    "        while i < len(part):\n",
    "            c = ((f(part[i-1])+f(part[i]))/2)*(part[i]-part[i-1])\n",
    "            f_new.append(c)\n",
    "            i += 1\n",
    "        return sum(f_new)\n",
    "    if method == 'Simpson' and n % 2 !=0:\n",
    "        raise ValueError('The number of subintervals (n) is not even')\n",
    "    if method == 'Simpson':\n",
    "        i = 1\n",
    "        while i < (len(part)/2):\n",
    "            c = f(part[2*i-2]) + 4*f(part[2*i-1]) + f(part[2*i])\n",
    "            f_new.append(c)\n",
    "            i += 1\n",
    "        return ((part[-1]-part[0])*sum(f_new))/(3*n)\n",
    "\n",
    "f = lambda x: x**2 \n",
    "num_int(f, 0, 1, 2, method='left')\n",
    "num_int(f, 0, 1, 4, method='right')\n",
    "num_int(f, part=[0, 0.5, 0.75, 1], method='midpoint') \n",
    "num_int(f, a=None, b=None, method='trapezium', part=[0, 0.5, 0.75, 1])\n",
    "num_int(f, 0, 1, 8, method='Simpson')"
   ]
  },
  {
   "cell_type": "markdown",
   "id": "579ec3c5",
   "metadata": {},
   "source": [
    "#### Problem 2"
   ]
  },
  {
   "cell_type": "code",
   "execution_count": 118,
   "id": "fba2085e",
   "metadata": {},
   "outputs": [],
   "source": [
    "import csv\n",
    "import matplotlib.pyplot as plt\n",
    "\n",
    "def bs_eur_estimate_iv(ex_price, int_rate, cur_price, time, option_val,\n",
    "                       option_type, *, lower_vol=0.0001, upper_vol=100):\n",
    "    return root_bisection(lambda vol:\n",
    "                          bs_eur(ex_price, int_rate, cur_price,\n",
    "                                 time, vol, option_type) - option_val,\n",
    "                          lower_vol, upper_vol)\n",
    "\n",
    "def apply_iv (in_filename, out_filename, plot_filename = None, *,\n",
    "              ex_price_field, option_val_field, iv_field, cur_price,\n",
    "              int_rate, maturity_time, option_type):\n",
    "    with open(in_filename, newline='') as file:\n",
    "        header = file.readline()[:-1].split(',')\n",
    "        try:\n",
    "            if ex_price_field and option_val_field in header:\n",
    "                ex_price_field_index = header.index(ex_price_field)\n",
    "                option_val_field_index = header.index(option_val_field)\n",
    "        except (ValueError, NameError, TypeError) as exception:\n",
    "            print(f'{type(exception).__name__}: there are no fields with this names')\n",
    "        if iv_field not in header:\n",
    "                header.append(iv_field)\n",
    "        else: \n",
    "            raise NameError('csv field of the implied volatility exists')\n",
    "        data = [[x for x in line[:-1].split(',')] for line in file]\n",
    "        for line in data:\n",
    "            iv_field_data = bs_eur_estimate_iv(ex_price = float(line[ex_price_field_index]), \n",
    "                                               int_rate = int_rate, cur_price = cur_price, \n",
    "                                               time = maturity_time, option_val = float(line[option_val_field_index]),\n",
    "                                               option_type = option_type)\n",
    "            iv_field_data = round(iv_field_data*100, 3)\n",
    "            line.append(iv_field_data)\n",
    "        data[:0] = [header]\n",
    "        \n",
    "    with open(out_filename, 'w', newline='') as file:\n",
    "        csv_writer = csv.writer(file)\n",
    "        for row in data:\n",
    "            csv_writer.writerow(row)\n",
    "            \n",
    "    if plot_filename != None:\n",
    "        iv_field_data = []\n",
    "        ex_price_data = []\n",
    "        for row in data:\n",
    "            ex_price_data.append(row[ex_price_field_index])\n",
    "            iv_field_data.append(row[-1])\n",
    "        iv_field_data = iv_field_data[1:]\n",
    "        ex_price_data = [float(x) for x in ex_price_data[1:]]\n",
    "        plt.plot(ex_price_data, iv_field_data, color = 'g')\n",
    "        plt.xlabel('Exercise price')\n",
    "        plt.ylabel('Implied volatility (%)')\n",
    "        plt.title('Volatility Smile', fontsize = 15)\n",
    "        plt.savefig(plot_filename)"
   ]
  },
  {
   "cell_type": "markdown",
   "id": "745a78c0",
   "metadata": {},
   "source": [
    "##### Testing the function using AMF2_option_sample.csv file"
   ]
  },
  {
   "cell_type": "code",
   "execution_count": 183,
   "id": "ee71a0a2",
   "metadata": {},
   "outputs": [
    {
     "name": "stdout",
     "output_type": "stream",
     "text": [
      "[['Type', 'Strike', 'Moneyness', 'Price', 'Volume', 'Open Int', 'Implied_vol'], ['Call', '3600', '+9.32%', '407.2', '0', '3', 20.954], ['Call', '3625', '+8.69%', '384.9', '0', '0', 20.693], ['Call', '3650', '+8.06%', '363.1', '0', '0', 20.426], ['Call', '3675', '+7.43%', '341.5', '0', '4', 20.153], ['Call', '3680', '+7.31%', '337.3', '0', '0', 20.097], ['Call', '3690', '+7.05%', '328.9', '0', '0', 19.986], ['Call', '3700', '+6.80%', '320.3', '0', '10', 19.874], ['Call', '3710', '+6.55%', '312', '0', '0', 19.762], ['Call', '3720', '+6.30%', '303.7', '0', '0', 19.648], ['Call', '3725', '+6.17%', '299.6', '0', '0', 19.591], ['Call', '3730', '+6.05%', '295.5', '40', '0', 19.534], ['Call', '3740', '+5.79%', '287.3', '0', '0', 19.42], ['Call', '3750', '+5.54%', '279.2', '0', '0', 19.305], ['Call', '3760', '+5.29%', '271.2', '0', '0', 19.189], ['Call', '3770', '+5.04%', '263.4', '40', '0', 19.073], ['Call', '3775', '+4.91%', '259.3', '0', '0', 19.015], ['Call', '3780', '+4.79%', '255.4', '0', '0', 18.957], ['Call', '3790', '+4.53%', '247.7', '0', '0', 18.84], ['Call', '3800', '+4.28%', '240', '0', '21', 18.723], ['Call', '3810', '+4.03%', '232.2', '0', '0', 18.606], ['Call', '3820', '+3.78%', '224.7', '0', '0', 18.489], ['Call', '3825', '+3.65%', '220.9', '0', '0', 18.43], ['Call', '3830', '+3.53%', '217.2', '0', '0', 18.371], ['Call', '3840', '+3.28%', '209.8', '0', '0', 18.254], ['Call', '3850', '+3.02%', '202.4', '0', '2', 18.136], ['Call', '3860', '+2.77%', '195.2', '0', '1', 18.018], ['Call', '3870', '+2.52%', '188.1', '0', '5', 17.901], ['Call', '3875', '+2.39%', '184.5', '0', '0', 17.842], ['Call', '3880', '+2.27%', '181', '0', '22', 17.783], ['Call', '3890', '+2.02%', '174.1', '0', '3', 17.666], ['Call', '3900', '+1.76%', '167.2', '2', '126', 17.549], ['Call', '3910', '+1.51%', '160.5', '0', '2', 17.432], ['Call', '3920', '+1.26%', '153.9', '5', '9', 17.316], ['Call', '3925', '+1.13%', '150.5', '4', '1', 17.257], ['Call', '3930', '+1.01%', '146.7', '0', '0', 17.199], ['Call', '3940', '+0.76%', '140.3', '12', '2', 17.084], ['Call', '3950', '+0.50%', '134.1', '36', '6', 16.968], ['Call', '3960', '+0.25%', '127.9', '9', '5', 16.853], ['Call', '3970', 'unch', '121.9', '1', '4', 16.739], ['Call', '3975', '-0.12%', '118.9', '4', '12', 16.682], ['Call', '3980', '-0.25%', '116', '5', '2', 16.625], ['Call', '3990', '-0.50%', '110.2', '12', '10', 16.512], ['Call', '4000', '-0.75%', '104.6', '1', '283', 16.4], ['Call', '4010', '-1.01%', '99.1', '4', '29', 16.288], ['Call', '4020', '-1.26%', '93.7', '0', '102', 16.178], ['Call', '4025', '-1.38%', '91.1', '0', '78', 16.122], ['Call', '4030', '-1.51%', '88.6', '4', '41', 16.068], ['Call', '4040', '-1.76%', '83.5', '0', '14', 15.958], ['Call', '4050', '-2.01%', '78.7', '3', '56', 15.85], ['Call', '4060', '-2.27%', '74', '0', '80', 15.743], ['Call', '4070', '-2.52%', '69.4', '18', '74', 15.637], ['Call', '4075', '-2.64%', '67.2', '6', '26', 15.584], ['Call', '4080', '-2.77%', '65.1', '22', '19', 15.532], ['Call', '4090', '-3.02%', '60.9', '0', '137', 15.428], ['Call', '4100', '-3.27%', '56.8', '13', '39', 15.325], ['Call', '4110', '-3.53%', '53', '22', '59', 15.224], ['Call', '4120', '-3.78%', '49.3', '30', '40', 15.123], ['Call', '4125', '-3.90%', '47.5', '8', '45', 15.074], ['Call', '4130', '-4.03%', '45.8', '5', '57', 15.024], ['Call', '4140', '-4.28%', '42.4', '2', '45', 14.927], ['Call', '4150', '-4.53%', '39.2', '6', '78', 14.831], ['Call', '4160', '-4.78%', '36.2', '20', '81', 14.736], ['Call', '4170', '-5.04%', '33.4', '5', '42', 14.643], ['Call', '4175', '-5.16%', '32', '2', '52', 14.597], ['Call', '4180', '-5.29%', '30.7', '2', '18', 14.551], ['Call', '4190', '-5.54%', '28.2', '0', '31', 14.461], ['Call', '4200', '-5.79%', '25.8', '31', '65', 14.373], ['Call', '4210', '-6.04%', '23.6', '11', '86', 14.286], ['Call', '4220', '-6.30%', '21.5', '4', '64', 14.201], ['Call', '4225', '-6.42%', '20.6', '1', '55', 14.16], ['Call', '4230', '-6.55%', '19.6', '2', '34', 14.118], ['Call', '4240', '-6.80%', '17.8', '12', '48', 14.037], ['Call', '4250', '-7.05%', '16.2', '9', '79', 13.958], ['Call', '4260', '-7.30%', '14.7', '2', '10', 13.88], ['Call', '4270', '-7.56%', '13.2', '14', '29', 13.805], ['Call', '4275', '-7.68%', '12.7', '8', '52', 13.768], ['Call', '4280', '-7.81%', '12.1', '7', '16', 13.732], ['Call', '4290', '-8.06%', '10.8', '10', '41', 13.661], ['Call', '4300', '-8.31%', '9.7', '94', '197', 13.592], ['Call', '4310', '-8.56%', '8.8', '13', '16', 13.525], ['Call', '4325', '-8.94%', '7.5', '11', '11', 13.429], ['Call', '4350', '-9.57%', '5.7', '59', '174', 13.281], ['Call', '4400', '-10.83%', '3.3', '94', '209', 13.03], ['Call', '4450', '-12.09%', '1.95', '1', '872', 12.847], ['Call', '4500', '-13.35%', '1.2', '7', '140', 12.738], ['Call', '4600', '-15.87%', '0.5', '4', '252', 12.762], ['Call', '4800', '-20.91%', '0.2', '0', '18', 13.955], ['Call', '5000', '-25.94%', '0.15', '0', '65', 17.0], ['Call', '5200', '-30.98%', '0.1', '0', '13', 22.285]]\n"
     ]
    },
    {
     "data": {
      "image/png": "[encoded data removed]",
      "text/plain": [
       "<Figure size 640x480 with 1 Axes>"
      ]
     },
     "metadata": {},
     "output_type": "display_data"
    }
   ],
   "source": [
    "import csv\n",
    "import matplotlib.pyplot as plt\n",
    "\n",
    "def bs_eur_estimate_iv(ex_price, int_rate, cur_price, time, option_val,\n",
    "                       option_type, *, lower_val=0.0001, upper_val=100):\n",
    "    a = 8.1e-11\n",
    "    b = -9.35e-7\n",
    "    c = 0.00348\n",
    "    d = -3.98\n",
    "    return a * ex_price**3 + b * ex_price**2 + c * ex_price + d\n",
    "\n",
    "def apply_iv (in_filename, out_filename, plot_filename = None, *,\n",
    "              ex_price_field, option_val_field, iv_field, cur_price,\n",
    "              int_rate, maturity_time, option_type):\n",
    "    with open(in_filename, newline='') as file:\n",
    "        header = file.readline()[:-1].split(',')\n",
    "        try:\n",
    "            if ex_price_field and option_val_field in header:\n",
    "                ex_price_field_index = header.index(ex_price_field)\n",
    "                option_val_field_index = header.index(option_val_field)\n",
    "        except (ValueError, NameError, TypeError) as exception:\n",
    "            print(f'{type(exception).__name__}: there are no fields with this names')\n",
    "        if iv_field not in header:\n",
    "                header.append(iv_field)\n",
    "        else: \n",
    "            raise NameError('csv field of the implied volatility exists')\n",
    "        data = [[x for x in line[:-1].split(',')] for line in file]\n",
    "        for line in data:\n",
    "            iv_field_data = bs_eur_estimate_iv(ex_price = float(line[ex_price_field_index]), \n",
    "                                               int_rate = int_rate, cur_price = cur_price, \n",
    "                                               time = maturity_time, option_val = float(line[option_val_field_index]),\n",
    "                                               option_type = option_type)\n",
    "            iv_field_data = round(iv_field_data*100, 3)\n",
    "            line.append(iv_field_data)\n",
    "        data[:0] = [header]\n",
    "        print(data)\n",
    "        \n",
    "    with open(out_filename, 'w', newline='') as file:\n",
    "        csv_writer = csv.writer(file)\n",
    "        for row in data:\n",
    "            csv_writer.writerow(row)\n",
    "    if plot_filename != None:\n",
    "        iv_field_data = []\n",
    "        ex_price_data = []\n",
    "        for row in data:\n",
    "            ex_price_data.append(row[ex_price_field_index])\n",
    "            iv_field_data.append(row[-1])\n",
    "        iv_field_data = iv_field_data[1:]\n",
    "        ex_price_data = [float(x) for x in ex_price_data[1:]]\n",
    "        plt.plot(ex_price_data, iv_field_data, color = 'g')\n",
    "        plt.xlabel('Exercise price')\n",
    "        plt.ylabel('Implied volatility (%)')\n",
    "        plt.title('Volatility Smile', fontsize = 15)\n",
    "        plt.savefig(plot_filename)\n",
    "\n",
    "apply_iv('AMF2_option_sample.csv', 'test_3.csv', \n",
    "         'Smile_3.png', ex_price_field = 'Strike', option_val_field = 'Price',\n",
    "         iv_field = 'Implied_vol', cur_price = 3980, int_rate = 0.0483,\n",
    "         maturity_time = 35, option_type = 'Call')"
   ]
  },
  {
   "cell_type": "code",
   "execution_count": null,
   "id": "2e3df913",
   "metadata": {},
   "outputs": [],
   "source": []
  }
 ],
 "metadata": {
  "kernelspec": {
   "display_name": "Python 3 (ipykernel)",
   "language": "python",
   "name": "python3"
  },
  "language_info": {
   "codemirror_mode": {
    "name": "ipython",
    "version": 3
   },
   "file_extension": ".py",
   "mimetype": "text/x-python",
   "name": "python",
   "nbconvert_exporter": "python",
   "pygments_lexer": "ipython3",
   "version": "3.9.6"
  }
 },
 "nbformat": 4,
 "nbformat_minor": 5
}
