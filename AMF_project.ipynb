{
 "cells": [
  {
   "cell_type": "code",
   "execution_count": 4,
   "id": "1c8d02a7",
   "metadata": {},
   "outputs": [
    {
     "data": {
      "text/plain": [
       "'You will now see all output from Python cells.'"
      ]
     },
     "execution_count": 4,
     "metadata": {},
     "output_type": "execute_result"
    },
    {
     "data": {
      "text/plain": [
       "'Run twice.'"
      ]
     },
     "execution_count": 4,
     "metadata": {},
     "output_type": "execute_result"
    }
   ],
   "source": [
    "from IPython.core.interactiveshell import InteractiveShell\n",
    "InteractiveShell.ast_node_interactivity = \"all\"\n",
    "\"You will now see all output from Python cells.\"\n",
    "\"Run twice.\"    "
   ]
  },
  {
   "cell_type": "code",
   "execution_count": 5,
   "id": "97ceab0b",
   "metadata": {},
   "outputs": [
    {
     "name": "stdout",
     "output_type": "stream",
     "text": [
      "(3, 9, 13)\n"
     ]
    }
   ],
   "source": [
    "from sys import version_info\n",
    "print(version_info[:3])"
   ]
  },
  {
   "cell_type": "markdown",
   "id": "f525c7e1",
   "metadata": {},
   "source": [
    "# Python version: (X, Y, Z)"
   ]
  },
  {
   "cell_type": "code",
   "execution_count": 183,
   "id": "a967028f",
   "metadata": {},
   "outputs": [],
   "source": [
    "import math\n",
    "import numpy\n",
    "from numpy import random\n",
    "import numpy as np"
   ]
  },
  {
   "cell_type": "code",
   "execution_count": 184,
   "id": "452f174d",
   "metadata": {},
   "outputs": [],
   "source": [
    "class Asset:\n",
    "    \"\"\"An Asset of an Option.\n",
    "    \n",
    "    Parameters\n",
    "    ----------\n",
    "    path_length : int\n",
    "        the number of time steps the path is divided\n",
    "    final_time : float\n",
    "        the time at which the predicted value of the Asset is calculated\n",
    "    interest_rate : float\n",
    "        the inetrest rate of the Asset, less than 1 \n",
    "    volatility : float\n",
    "        the volatility of the Asset, less than 1\n",
    "        \n",
    "    Returns\n",
    "    -------\n",
    "    float\n",
    "        asset value at final time\n",
    "    \n",
    "    Attributes\n",
    "    ----------\n",
    "    name: str\n",
    "        the name of the Asset\n",
    "    current_price: float\n",
    "        the current price of the Asset\n",
    "    dividend_yield: float, default = 0\n",
    "        the dividend yield of the Asset\n",
    "    \"\"\"\n",
    "    \n",
    "    def __init__(self, name: str, current_price: float, dividend_yield: float = 0):\n",
    "        \"\"\"Initialises Asset with names, current price, and dividend yield.\"\"\"\n",
    "        self.name = name\n",
    "        self.current_price = current_price\n",
    "        self.dividend_yield = dividend_yield\n",
    "    \n",
    "    def simulate_path(self, path_length: int, final_time: float, *, interest_rate: float, volatility: float):\n",
    "        \"\"\"Returns the Asset value at the final time simulating asset path.\"\"\"\n",
    "        i = 0\n",
    "        asset_set = [self.current_price]\n",
    "        while i < path_length:\n",
    "            asset_set.append(asset_set[i]*np.exp((interest_rate-((volatility**2)/2))*(final_time/path_length)+volatility\n",
    "                                                           *random.normal(0, math.sqrt(final_time/path_length))))\n",
    "            i += 1\n",
    "        return asset_set[-1]"
   ]
  },
  {
   "cell_type": "code",
   "execution_count": 185,
   "id": "c2281b24",
   "metadata": {},
   "outputs": [],
   "source": [
    "class Option(Asset):\n",
    "    \"\"\"An Option in general.\n",
    "    \n",
    "    Attributes\n",
    "    ----------\n",
    "    name: str\n",
    "        the name of the Option\n",
    "    underlying: Asset\n",
    "        the underlying Asset of the Option\n",
    "    exercise_price: float\n",
    "        the exercise price of the Option\n",
    "    option_type: str\n",
    "        the option type of the Option\n",
    "    maturity_time: float\n",
    "        the maturity time of the Option\n",
    "    \n",
    "    Raises\n",
    "    ------\n",
    "    NameError\n",
    "        If the value of the option type is not valid. It can be either \"call\" or \"put\".\n",
    "    \"\"\"\n",
    "    \n",
    "    def __init__(self, name: str, underlying: Asset, *, exercise_price: float, option_type: str, maturity_time: float):\n",
    "        \"\"\"Initialises Option with names, underlying, exercise price, option type and maturity time.\"\"\"\n",
    "        self.name = name\n",
    "        self.underlying = underlying\n",
    "        self.exercise_price = exercise_price\n",
    "        self.option_type = self._is_valid_option_type(option_type) \n",
    "        self.maturity_time = maturity_time\n",
    "        \n",
    "    def _is_valid_option_type(self, option_type):\n",
    "        \"\"\"Checks if the option type is correct to work with.\"\"\"\n",
    "        if option_type == 'call' or option_type == 'put':\n",
    "            return option_type\n",
    "        else:\n",
    "            raise NameError('Option type should be either \"call\" or \"put\"')"
   ]
  },
  {
   "cell_type": "code",
   "execution_count": 186,
   "id": "70e62f5a",
   "metadata": {},
   "outputs": [],
   "source": [
    "class PathIndependentOption(Option):\n",
    "    \"\"\"A Path independent Option in general.\n",
    "    \n",
    "    Parameters\n",
    "    ----------\n",
    "    exercise_price : float\n",
    "        the exercise price of the Option\n",
    "    current_price : float\n",
    "        the value of the underlying asset\n",
    "    option_type : str\n",
    "        the option type that could be either 'call' or 'put'\n",
    "\n",
    "    Returns\n",
    "    -------\n",
    "    float\n",
    "        The payoff value of the Path independent Option.\n",
    "    \"\"\"\n",
    "    \n",
    "    def __init__(self, *args, **kwargs):\n",
    "        \"\"\"Initialises PathIndependentOption taking all instance attributes from Option class.\"\"\"\n",
    "        super().__init__(*args, **kwargs)\n",
    "    \n",
    "    def payoff(self):\n",
    "        \"\"\"Returns payoff of the option relying on the option type.\"\"\"\n",
    "        if self.option_type == 'call':\n",
    "            return max(self.underlying.current_price - self.exercise_price, 0)\n",
    "        else:\n",
    "            return max(self.exercise_price - self.underlying.current_price, 0)\n",
    "        \n",
    "    @staticmethod\n",
    "    def _payoff(exercise_price, current_price, option_type):\n",
    "        \"\"\"Returns payoff of the option relying on the option type.\"\"\"\n",
    "        if option_type == 'call':           \n",
    "            return max(current_price - exercise_price, 0)       \n",
    "        if option_type == 'put':\n",
    "            return max(exercise_price - current_price, 0)"
   ]
  },
  {
   "cell_type": "code",
   "execution_count": 187,
   "id": "03e3ec1c",
   "metadata": {},
   "outputs": [],
   "source": [
    "class BinomialValuedOption(PathIndependentOption):\n",
    "    \"\"\"Binomial method of valuing Options.\n",
    "    \n",
    "    Parameters\n",
    "    ----------\n",
    "    n: int\n",
    "        the maximum level in the tree \n",
    "    u: float, default = None\n",
    "        the factor that the underlying price is multiplied by when the price moves up \n",
    "    d: float, default = None\n",
    "        the factor that the underlying price is multiplied by when the price moves down \n",
    "    p: float, default = None\n",
    "        the probability that the underlying price moves up\n",
    "    interest_rate: float\n",
    "        the annualised, continuously-compounded interest rate\n",
    "    volatility: float\n",
    "        the annualised volatility\n",
    "    method: str, default = None\n",
    "        the method of constructing the binomial tree\n",
    "\n",
    "    Returns\n",
    "    -------\n",
    "    float\n",
    "        The Option value at the current time.\n",
    "        \n",
    "    Raises\n",
    "    ------\n",
    "    ValueError\n",
    "        If method is provided, none of u, p, d should be provided, and if method is not provided, \n",
    "        then all of u, p, d must be provided.\n",
    "    NameError\n",
    "        If the value of the method is not valid. It can be either \"symmetrical\" or \"equal probability\".\n",
    "    \n",
    "    Notes\n",
    "    -----\n",
    "    Use pseudoprivate method _binomial_node_value from subclasses to calculate the value of different options.\n",
    "    \"\"\"\n",
    "    \n",
    "    def __init__(self, *args, **kwargs):\n",
    "        \"\"\"Initialises BinomialValuedOption taking all instance attributes from PathIndependentOption class.\"\"\"\n",
    "        super().__init__(*args, **kwargs)\n",
    "        \n",
    "    def binomial_value(self, n: int, u: float = None, d: float = None, p: float = None,\n",
    "                       *, interest_rate: float, volatility: float, method: str = None):\n",
    "        \"\"\"Returns the value of the option using Binomial method.\"\"\"\n",
    "        if method != None and (u != None or d != None or p != None):\n",
    "            raise ValueError('When parameter \"method\" is provided, non of the values \"u\", \"d\", \"p\" should be given')\n",
    "        if method == None and (u == None or d == None or p == None):\n",
    "            raise ValueError('When parameter \"method\" is not provided, all of the values \"u\", \"d\", \"p\" should be given')\n",
    "        if method != None and method !='symmetrical' and method != 'equal probability':\n",
    "            raise NameError('Parameter \"method\" can be either \"symmetrical\" or \"equal probability\"')\n",
    "        dt = self.maturity_time/n\n",
    "        if method != None:\n",
    "            if method == 'symmetrical':\n",
    "                A = (math.exp(-interest_rate*dt) + math.exp((interest_rate + volatility**2)*dt))/2\n",
    "                u = A + math.sqrt(A**2 - 1)\n",
    "                d = A - math.sqrt(A**2 - 1)\n",
    "                p = (math.exp(interest_rate*dt) - d)/(u - d)\n",
    "            if method == 'equal probability':\n",
    "                p = 1/2\n",
    "                u = math.exp(interest_rate*dt)*(1 + math.sqrt(math.exp((volatility**2)*dt)-1))\n",
    "                d = math.exp(interest_rate*dt)*(1 - math.sqrt(math.exp((volatility**2)*dt)-1))\n",
    "            if u < 1 or d < 0 or d > 1 or p < 0 or p > 1:\n",
    "                raise ValueError('Choose different \"n\" to make dt small enought')\n",
    "        i = 0\n",
    "        final_asset_set = []\n",
    "        while i < n+1:\n",
    "            final_asset_set.append((d**(n-i))*(u**i)*self.underlying.current_price)\n",
    "            \n",
    "            i += 1\n",
    "        v_set = []\n",
    "        i = 0\n",
    "        while i < n+1:\n",
    "            v_set.append(PathIndependentOption._payoff(self.exercise_price, final_asset_set[i], self.option_type))\n",
    "            i += 1\n",
    "        def calculate_option_value(n, p, *, v_set, interest_rate):\n",
    "            if n == 0:\n",
    "                return v_set[0]\n",
    "            else:\n",
    "                i = 0\n",
    "                v_new_set = []\n",
    "                while i < n:\n",
    "                    v_new_set.append(self._binomial_node_value(v_set[i+1],v_set[i], p,\n",
    "                                                               -interest_rate*dt, (d**(n-i))*(u**i)*self.underlying.current_price))\n",
    "                    i += 1\n",
    "                return calculate_option_value(n - 1, p, v_set = v_new_set, interest_rate = interest_rate)    \n",
    "        return calculate_option_value(n, p, v_set = v_set, interest_rate = interest_rate)"
   ]
  },
  {
   "cell_type": "code",
   "execution_count": 188,
   "id": "544dd922",
   "metadata": {},
   "outputs": [],
   "source": [
    "class MonteCarloValuedOption(Option):\n",
    "    \"\"\"Monte Carlo method of valuing Options.\n",
    "    \n",
    "    Parameters\n",
    "    ----------\n",
    "    num_paths : int\n",
    "        the number of simulated paths to construct\n",
    "    path_length : int\n",
    "        the length of the simulated paths\n",
    "    interest_rate : float\n",
    "        the annualised, continuously-compounded interest rate\n",
    "    volatility : float\n",
    "        the annualised volatility\n",
    "\n",
    "    Returns\n",
    "    -------\n",
    "    float\n",
    "        The Option value at the current time.\n",
    "    \n",
    "    Notes\n",
    "    -----\n",
    "    Use pseudoprivate method _monte_carlo_sim_value from subclasses to calculate the value of different options.\n",
    "    \"\"\"\n",
    "    \n",
    "    def __init__(self, *args, **kwargs):\n",
    "        \"\"\"Initialises MonteCarloValuedOption taking all instance attributes from Option class.\"\"\"\n",
    "        super().__init__(*args, **kwargs)\n",
    "        \n",
    "    def monte_carlo_value(self, num_paths, path_length, *, interest_rate, volatility):\n",
    "        \"\"\"Returns the value of the option using Monte Carlo method.\"\"\"\n",
    "        i = 0\n",
    "        asset_values = []\n",
    "        new_asset = Asset(self.name, self.underlying.current_price)\n",
    "        while i < num_paths:\n",
    "            asset_values.append(new_asset.simulate_path(path_length, self.maturity_time, \n",
    "                                    interest_rate = interest_rate, volatility = volatility))\n",
    "            i += 1\n",
    "        return self._monte_carlo_sim_value(num_paths, path_length, asset_values, \n",
    "                                                   interest_rate = interest_rate, volatility =volatility)"
   ]
  },
  {
   "cell_type": "code",
   "execution_count": 189,
   "id": "f6244c9f",
   "metadata": {},
   "outputs": [],
   "source": [
    "class EuropeanOption(MonteCarloValuedOption, BinomialValuedOption):\n",
    "    \"\"\"An European type of Options.\n",
    "    \n",
    "    Parameters\n",
    "    ----------\n",
    "    V_up : float\n",
    "        the value of option at the next node when the price moves up \n",
    "    V_down : float\n",
    "        the value of option at the next node when the price moves up \n",
    "    discount_factor : float\n",
    "        the value of multiplication of interest_rate on the time step\n",
    "    S : float\n",
    "        the value of underlying\n",
    "    num_paths : int\n",
    "        the number of simulated paths to construct\n",
    "    path_length : int\n",
    "        the length of the simulated paths\n",
    "    interest_rate : float\n",
    "        the annualised, continuously-compounded interest rate\n",
    "    volatility : float\n",
    "        the annualised volatility\n",
    "    asset_values: list\n",
    "        the list of asset values at final time\n",
    "    \n",
    "    Notes\n",
    "    -----\n",
    "    The class has two pseudoprivate methods: _binomial_node_value and _monte_carlo_sim_value. The methods are used \n",
    "    to calculate the value of European Options in monte_carlo_value and binomial_value methods from\n",
    "    MonteCarloValuedOption and BinomialValuedOption classes respectively.\n",
    "    \"\"\"\n",
    "    \n",
    "    def __init__(self, *args, **kwargs):\n",
    "        \"\"\"Initialises EuropeanOption taking all instance attributes from \n",
    "        MonteCarloValuedOption and BinomialValuedOption classes.\"\"\"\n",
    "        super().__init__(*args, **kwargs)\n",
    "        \n",
    "    def _binomial_node_value(self, V_up, V_down, p, discount_factor, S):\n",
    "        \"\"\"Returns the option value of the previous node in Binomial method for European options.\"\"\"\n",
    "        return math.exp(discount_factor)*(p*V_up+(1-p)*V_down)\n",
    "    \n",
    "    def _monte_carlo_sim_value(self, num_paths, path_length, asset_values, *, interest_rate, volatility):\n",
    "        \"\"\"Returns the value of the European option using Monte Carlo method.\"\"\"\n",
    "        i = 0\n",
    "        payoff_values = []\n",
    "        while i < num_paths:\n",
    "            payoff_values.append(PathIndependentOption._payoff(self.exercise_price, asset_values[i], self.option_type))\n",
    "            i += 1\n",
    "        return math.exp(-interest_rate*self.maturity_time)*((1/num_paths)*sum(payoff_values))"
   ]
  },
  {
   "cell_type": "code",
   "execution_count": 190,
   "id": "8e9ba3aa",
   "metadata": {},
   "outputs": [],
   "source": [
    "class AmericanOption(BinomialValuedOption):\n",
    "    \"\"\"An American type of Options.\n",
    "    \n",
    "    Parameters\n",
    "    ----------\n",
    "    V_up : float\n",
    "        the value of option at the next node when the price moves up \n",
    "    V_down : float\n",
    "        the value of option at the next node when the price moves up \n",
    "    discount_factor : float\n",
    "        the value of multiplication of interest_rate on the time step\n",
    "    S : float\n",
    "        the value of underlying\n",
    "    \n",
    "    Notes\n",
    "    -----\n",
    "    The pseudoprivate method is used to calculate the value of American Options in binomial_value methods\n",
    "    in BinomialValuedOption class.\n",
    "    \"\"\"\n",
    "    def __init__(self, *args, **kwargs):\n",
    "        \"\"\"Initialises AmericanOption taking all instance attributes from BinomialValuedOption class.\"\"\"\n",
    "        super().__init__(*args, **kwargs)\n",
    "    \n",
    "    def _binomial_node_value(self, V_up, V_down, p, discount_factor, S):\n",
    "        \"\"\"Returns the option value of the previous node in Binomial method for American options.\"\"\"\n",
    "        return max(math.exp(discount_factor)*(p*V_up+(1-p)*V_down), \n",
    "                   PathIndependentOption._payoff(self.exercise_price, S, self.option_type))"
   ]
  },
  {
   "cell_type": "code",
   "execution_count": 191,
   "id": "97bcd2c8",
   "metadata": {},
   "outputs": [],
   "source": [
    "class AsianEuropeanOption(MonteCarloValuedOption):\n",
    "    \"\"\"An Asian type of European Options.\n",
    "    \n",
    "    Parameters\n",
    "    ----------\n",
    "    num_paths : int\n",
    "        the number of simulated paths to construct\n",
    "    path_length : int\n",
    "        the length of the simulated paths\n",
    "    interest_rate : float\n",
    "        the annualised, continuously-compounded interest rate\n",
    "    volatility : float\n",
    "        the annualised volatility\n",
    "    asset_values: list\n",
    "        the list of asset values at final time\n",
    "    \n",
    "    Attributes\n",
    "    ----------\n",
    "    averaging_method: str\n",
    "        the method of averaging assets values\n",
    "    \n",
    "    Raises\n",
    "    ------\n",
    "    NameError\n",
    "        If the value of the averaging method is not valid. It can be either \"arithmetic\" or \"geometric\".\n",
    "    \n",
    "    Notes\n",
    "    -----\n",
    "    The pseudoprivate method is used to calculate the value of Asian type of European Options in monte_carlo_value method\n",
    "    in MonteCarloValuedOption class.\n",
    "    \"\"\"\n",
    "    def __init__(self, *args, averaging_method: str, **kwargs):\n",
    "        \"\"\"Initialises AsianEuropeanOption taking all instance attributes from MonteCarloValuedOption class.\"\"\"\n",
    "        super().__init__(*args, **kwargs)\n",
    "        self.averaging_method = self._is_valid_averaging_method(averaging_method)\n",
    "        \n",
    "    def _is_valid_averaging_method(self, averaging_method):\n",
    "        \"\"\"Checks if the averaging method is correct to work with.\"\"\"\n",
    "        if averaging_method == 'arithmetic' or averaging_method == 'geometric':\n",
    "            return averaging_method\n",
    "        else:\n",
    "            raise NameError('Averaging method should be either \"arithmetic\" or \"geometric\"')\n",
    "    \n",
    "    def _monte_carlo_sim_value(self, num_paths, path_length, asset_values, *, interest_rate, volatility):\n",
    "        \"\"\"Returns the value of the Asian option using Monte Carlo method.\"\"\"\n",
    "        if self.averaging_method == 'arithmetic':\n",
    "            asian_exercise_price = (1/num_paths)*sum(asset_values)\n",
    "        if self.averaging_method == 'geometric':\n",
    "            asian_exercise_price = numpy.prod(asset_values)**(1/num_paths)\n",
    "        i = 0\n",
    "        payoff_values = []\n",
    "        while i < num_paths:\n",
    "            payoff_values.append(PathIndependentOption._payoff(asian_exercise_price, asset_values[i], self.option_type))\n",
    "            i += 1\n",
    "        return math.exp(-interest_rate*self.maturity_time)*((1/num_paths)*sum(payoff_values))"
   ]
  },
  {
   "cell_type": "code",
   "execution_count": 192,
   "id": "f9271dc1",
   "metadata": {},
   "outputs": [
    {
     "name": "stdout",
     "output_type": "stream",
     "text": [
      "Checking if simulate_path works\n"
     ]
    },
    {
     "data": {
      "text/plain": [
       "201.20547545257617"
      ]
     },
     "execution_count": 192,
     "metadata": {},
     "output_type": "execute_result"
    },
    {
     "name": "stdout",
     "output_type": "stream",
     "text": [
      "Checking if Option class works\n"
     ]
    },
    {
     "data": {
      "text/plain": [
       "<__main__.Asset at 0x20988319bb0>"
      ]
     },
     "execution_count": 192,
     "metadata": {},
     "output_type": "execute_result"
    },
    {
     "name": "stdout",
     "output_type": "stream",
     "text": [
      "Checking if PathIndependentOption work correctly\n"
     ]
    },
    {
     "data": {
      "text/plain": [
       "144"
      ]
     },
     "execution_count": 192,
     "metadata": {},
     "output_type": "execute_result"
    },
    {
     "data": {
      "text/plain": [
       "0"
      ]
     },
     "execution_count": 192,
     "metadata": {},
     "output_type": "execute_result"
    },
    {
     "data": {
      "text/plain": [
       "0"
      ]
     },
     "execution_count": 192,
     "metadata": {},
     "output_type": "execute_result"
    },
    {
     "name": "stdout",
     "output_type": "stream",
     "text": [
      "Checking if the methods work correctly according to EuropeanOption\n"
     ]
    },
    {
     "data": {
      "text/plain": [
       "0.0"
      ]
     },
     "execution_count": 192,
     "metadata": {},
     "output_type": "execute_result"
    },
    {
     "data": {
      "text/plain": [
       "1.7563750072876296"
      ]
     },
     "execution_count": 192,
     "metadata": {},
     "output_type": "execute_result"
    },
    {
     "name": "stdout",
     "output_type": "stream",
     "text": [
      "Checking if the AmericanOption class works\n"
     ]
    },
    {
     "data": {
      "text/plain": [
       "129.53119102812866"
      ]
     },
     "execution_count": 192,
     "metadata": {},
     "output_type": "execute_result"
    },
    {
     "name": "stdout",
     "output_type": "stream",
     "text": [
      "Checking if the AsianOption class works for two averaging methods arithmetic and geometric respectively\n"
     ]
    },
    {
     "data": {
      "text/plain": [
       "11.836280498390828"
      ]
     },
     "execution_count": 192,
     "metadata": {},
     "output_type": "execute_result"
    },
    {
     "data": {
      "text/plain": [
       "12.024201254250766"
      ]
     },
     "execution_count": 192,
     "metadata": {},
     "output_type": "execute_result"
    }
   ],
   "source": [
    "if __name__ == '__main__':\n",
    "    print('Checking if simulate_path works')\n",
    "    first_attempt = Asset('first', 200)\n",
    "    first_attempt.simulate_path(200, 9, interest_rate = 0.01, volatility = 0.1)\n",
    "\n",
    "    print('Checking if Option class works')\n",
    "    new0= Asset('first', 200)\n",
    "    new0 = Option('Call', first_attempt, exercise_price = 56, option_type = \"call\", maturity_time = 7)\n",
    "    new0.underlying\n",
    "    \n",
    "    print('Checking if PathIndependentOption work correctly')\n",
    "    new1 = PathIndependentOption('Call', first_attempt, exercise_price = 56, option_type = \"call\", maturity_time = 7)\n",
    "    new1.payoff()\n",
    "    new1._payoff(120, 100, 'call')\n",
    "    PathIndependentOption._payoff(120, 100, 'call')\n",
    "    \n",
    "    print('Checking if the methods work correctly according to EuropeanOption')\n",
    "    new4 = EuropeanOption('Call', first_attempt, exercise_price = 40, option_type = 'put', maturity_time = 3)\n",
    "    new4.monte_carlo_value(10000, 10, interest_rate = 0.1, volatility = 0.1)\n",
    "    new4.binomial_value(3, interest_rate = 0.05, volatility = 0.5, method = 'equal probability')\n",
    "\n",
    "    print('Checking if the AmericanOption class works')\n",
    "    new5 = AmericanOption('Call', first_attempt, exercise_price = 100, option_type = 'call', maturity_time = 7)\n",
    "    new5.binomial_value(3, interest_rate = 0.05, volatility = 0.1, method = 'symmetrical')\n",
    "    \n",
    "    print('Checking if the AsianOption class works for two averaging methods arithmetic and geometric respectively')\n",
    "    new6 = AsianEuropeanOption('Call', first_attempt, exercise_price = 100, \n",
    "                               option_type = 'call', maturity_time = 7, averaging_method = 'arithmetic')\n",
    "    new6.monte_carlo_value(5, 10, interest_rate = 0.1, volatility = 0.1)\n",
    "    new6=AsianEuropeanOption('Call', first_attempt, exercise_price = 100, \n",
    "                               option_type = 'call', maturity_time = 7, averaging_method = 'geometric')\n",
    "    new6.monte_carlo_value(5, 10, interest_rate = 0.1, volatility = 0.1)"
   ]
  }
 ],
 "metadata": {
  "kernelspec": {
   "display_name": "Python 3 (ipykernel)",
   "language": "python",
   "name": "python3"
  },
  "language_info": {
   "codemirror_mode": {
    "name": "ipython",
    "version": 3
   },
   "file_extension": ".py",
   "mimetype": "text/x-python",
   "name": "python",
   "nbconvert_exporter": "python",
   "pygments_lexer": "ipython3",
   "version": "3.9.6"
  }
 },
 "nbformat": 4,
 "nbformat_minor": 5
}
